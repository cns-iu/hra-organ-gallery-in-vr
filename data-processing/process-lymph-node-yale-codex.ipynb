{
 "cells": [
  {
   "cell_type": "markdown",
   "metadata": {},
   "source": [
    "## A notebook to reduce the number of unique cell types"
   ]
  },
  {
   "cell_type": "code",
   "execution_count": 33,
   "metadata": {},
   "outputs": [
    {
     "name": "stdout",
     "output_type": "stream",
     "text": [
      "Requirement already satisfied: pandas in /Users/abueckle/Documents/GitHub/hra-organ-gallery-in-vr-development/.venv/lib/python3.12/site-packages (2.2.3)\n",
      "Requirement already satisfied: numpy>=1.26.0 in /Users/abueckle/Documents/GitHub/hra-organ-gallery-in-vr-development/.venv/lib/python3.12/site-packages (from pandas) (2.1.2)\n",
      "Requirement already satisfied: python-dateutil>=2.8.2 in /Users/abueckle/Documents/GitHub/hra-organ-gallery-in-vr-development/.venv/lib/python3.12/site-packages (from pandas) (2.9.0.post0)\n",
      "Requirement already satisfied: pytz>=2020.1 in /Users/abueckle/Documents/GitHub/hra-organ-gallery-in-vr-development/.venv/lib/python3.12/site-packages (from pandas) (2024.2)\n",
      "Requirement already satisfied: tzdata>=2022.7 in /Users/abueckle/Documents/GitHub/hra-organ-gallery-in-vr-development/.venv/lib/python3.12/site-packages (from pandas) (2024.2)\n",
      "Requirement already satisfied: six>=1.5 in /Users/abueckle/Documents/GitHub/hra-organ-gallery-in-vr-development/.venv/lib/python3.12/site-packages (from python-dateutil>=2.8.2->pandas) (1.16.0)\n",
      "Note: you may need to restart the kernel to use updated packages.\n"
     ]
    }
   ],
   "source": [
    "# install and import libraries\n",
    "%pip install pandas\n",
    "\n",
    "import pandas as pd"
   ]
  },
  {
   "cell_type": "code",
   "execution_count": 34,
   "metadata": {},
   "outputs": [
    {
     "data": {
      "text/html": [
       "<div>\n",
       "<style scoped>\n",
       "    .dataframe tbody tr th:only-of-type {\n",
       "        vertical-align: middle;\n",
       "    }\n",
       "\n",
       "    .dataframe tbody tr th {\n",
       "        vertical-align: top;\n",
       "    }\n",
       "\n",
       "    .dataframe thead th {\n",
       "        text-align: right;\n",
       "    }\n",
       "</style>\n",
       "<table border=\"1\" class=\"dataframe\">\n",
       "  <thead>\n",
       "    <tr style=\"text-align: right;\">\n",
       "      <th></th>\n",
       "      <th>x</th>\n",
       "      <th>y</th>\n",
       "      <th>Cell Type</th>\n",
       "    </tr>\n",
       "  </thead>\n",
       "  <tbody>\n",
       "    <tr>\n",
       "      <th>0</th>\n",
       "      <td>16269.831479</td>\n",
       "      <td>8683.127186</td>\n",
       "      <td>FDC</td>\n",
       "    </tr>\n",
       "    <tr>\n",
       "      <th>1</th>\n",
       "      <td>18553.896989</td>\n",
       "      <td>7700.741680</td>\n",
       "      <td>FDC</td>\n",
       "    </tr>\n",
       "    <tr>\n",
       "      <th>2</th>\n",
       "      <td>14898.646825</td>\n",
       "      <td>9976.730159</td>\n",
       "      <td>FDC</td>\n",
       "    </tr>\n",
       "    <tr>\n",
       "      <th>3</th>\n",
       "      <td>19678.308571</td>\n",
       "      <td>11826.737143</td>\n",
       "      <td>FDC</td>\n",
       "    </tr>\n",
       "    <tr>\n",
       "      <th>4</th>\n",
       "      <td>14901.333333</td>\n",
       "      <td>9954.969136</td>\n",
       "      <td>FDC</td>\n",
       "    </tr>\n",
       "    <tr>\n",
       "      <th>...</th>\n",
       "      <td>...</td>\n",
       "      <td>...</td>\n",
       "      <td>...</td>\n",
       "    </tr>\n",
       "    <tr>\n",
       "      <th>369637</th>\n",
       "      <td>14848.231733</td>\n",
       "      <td>9167.459290</td>\n",
       "      <td>Mast</td>\n",
       "    </tr>\n",
       "    <tr>\n",
       "      <th>369638</th>\n",
       "      <td>14899.514925</td>\n",
       "      <td>9404.738806</td>\n",
       "      <td>Mast</td>\n",
       "    </tr>\n",
       "    <tr>\n",
       "      <th>369639</th>\n",
       "      <td>12579.616613</td>\n",
       "      <td>5712.654952</td>\n",
       "      <td>Mast</td>\n",
       "    </tr>\n",
       "    <tr>\n",
       "      <th>369640</th>\n",
       "      <td>14706.286765</td>\n",
       "      <td>9352.544118</td>\n",
       "      <td>Mast</td>\n",
       "    </tr>\n",
       "    <tr>\n",
       "      <th>369641</th>\n",
       "      <td>1831.337449</td>\n",
       "      <td>6500.148148</td>\n",
       "      <td>Mast</td>\n",
       "    </tr>\n",
       "  </tbody>\n",
       "</table>\n",
       "<p>369642 rows × 3 columns</p>\n",
       "</div>"
      ],
      "text/plain": [
       "                   x             y Cell Type\n",
       "0       16269.831479   8683.127186       FDC\n",
       "1       18553.896989   7700.741680       FDC\n",
       "2       14898.646825   9976.730159       FDC\n",
       "3       19678.308571  11826.737143       FDC\n",
       "4       14901.333333   9954.969136       FDC\n",
       "...              ...           ...       ...\n",
       "369637  14848.231733   9167.459290      Mast\n",
       "369638  14899.514925   9404.738806      Mast\n",
       "369639  12579.616613   5712.654952      Mast\n",
       "369640  14706.286765   9352.544118      Mast\n",
       "369641   1831.337449   6500.148148      Mast\n",
       "\n",
       "[369642 rows x 3 columns]"
      ]
     },
     "execution_count": 34,
     "metadata": {},
     "output_type": "execute_result"
    }
   ],
   "source": [
    "# load data\n",
    "df = pd.read_csv(\"../hra-organ-gallery/Assets/Resources/SingleCellsNodesEdges/LN00837-nodes.csv\")\n",
    "df"
   ]
  },
  {
   "cell_type": "code",
   "execution_count": 35,
   "metadata": {},
   "outputs": [
    {
     "data": {
      "text/plain": [
       "array(['FDC', 'ILC', 'Monocytes', 'DC_pDC', 'Endothelial',\n",
       "       'T_CD8+_cytotoxic', 'Macrophages_M2', 'B_mem', 'T_CD4+_TfH_GC',\n",
       "       'T_TfR', 'T_CD4+_naive', 'B_plasma', 'VSMC', 'NK', 'T_Treg',\n",
       "       'B_Cycling', 'B_naive', 'B_GC_DZ', 'Macrophages_M1', 'B_GC_LZ',\n",
       "       'T_CD4+', 'B_preGC', 'B_activated', 'B_IFN', 'DC_cDC2',\n",
       "       'T_CD4+_TfH', 'T_CD8+_naive', 'DC_CCR7+', 'T_CD8+_CD161+',\n",
       "       'DC_cDC1', 'B_GC_prePB', 'T_TIM3+', 'NKT', 'Mast'], dtype=object)"
      ]
     },
     "execution_count": 35,
     "metadata": {},
     "output_type": "execute_result"
    }
   ],
   "source": [
    "# get unique cell type labels\n",
    "df['Cell Type'].unique()"
   ]
  },
  {
   "cell_type": "code",
   "execution_count": 36,
   "metadata": {},
   "outputs": [],
   "source": [
    "# functions\n",
    "def unify_names(df:pd.DataFrame, substitute:str, replace_with:str):\n",
    "  \"\"\"Unifies all cell type names that share a substring\n",
    "\n",
    "  Args:\n",
    "      df (pd.DataFrame): A pandas df\n",
    "      substitute (str): What to replace\n",
    "      replace_with (str): What to replace it with\n",
    "  \n",
    "  Returns: df (pd.DataFrame): The result as a df\n",
    "  \"\"\"\n",
    "\n",
    "  # Function to replace values starting with 's' with 'same_value'\n",
    "  df = df.applymap(lambda x: replace_with if isinstance(\n",
    "      x, str) and x.startswith(substitute) else x)\n",
    "  \n",
    "  return df\n",
    "  "
   ]
  },
  {
   "cell_type": "code",
   "execution_count": 37,
   "metadata": {},
   "outputs": [
    {
     "name": "stderr",
     "output_type": "stream",
     "text": [
      "/var/folders/x7/ttglg94d4g500ypbdkw3__nw0000gq/T/ipykernel_62772/1424507300.py:14: FutureWarning: DataFrame.applymap has been deprecated. Use DataFrame.map instead.\n",
      "  df = df.applymap(lambda x: replace_with if isinstance(\n"
     ]
    }
   ],
   "source": [
    "# unify B cells\n",
    "df = unify_names(df,\"B_\", \"B Cell\")\n",
    "df = unify_names(df, \"T_CD8\", \"T_CD8 Cell\")\n",
    "df = unify_names(df, \"T_CD4\", \"T_CD4 Cell\")\n",
    "df = unify_names(df, \"NK\", \"NK Cell\")\n",
    "df = unify_names(df, \"DC\", \"DC Cell\")\n",
    "\n",
    "\n"
   ]
  },
  {
   "cell_type": "code",
   "execution_count": 38,
   "metadata": {},
   "outputs": [
    {
     "data": {
      "text/plain": [
       "16"
      ]
     },
     "execution_count": 38,
     "metadata": {},
     "output_type": "execute_result"
    }
   ],
   "source": [
    "\n",
    "len(df['Cell Type'].unique())"
   ]
  },
  {
   "cell_type": "code",
   "execution_count": 40,
   "metadata": {},
   "outputs": [],
   "source": [
    "# Export to CSV\n",
    "df.to_csv(\"../hra-organ-gallery/Assets/Resources/SingleCellsNodesEdges/LN00837-nodes_REDUCED_CELL_TYPES.csv\", index=False)"
   ]
  }
 ],
 "metadata": {
  "kernelspec": {
   "display_name": ".venv",
   "language": "python",
   "name": "python3"
  },
  "language_info": {
   "codemirror_mode": {
    "name": "ipython",
    "version": 3
   },
   "file_extension": ".py",
   "mimetype": "text/x-python",
   "name": "python",
   "nbconvert_exporter": "python",
   "pygments_lexer": "ipython3",
   "version": "3.12.4"
  }
 },
 "nbformat": 4,
 "nbformat_minor": 2
}
